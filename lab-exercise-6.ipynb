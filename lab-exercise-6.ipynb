{
 "cells": [
  {
   "cell_type": "code",
   "execution_count": 6,
   "metadata": {},
   "outputs": [
    {
     "name": "stdout",
     "output_type": "stream",
     "text": [
      "Found phone number: 235-345-7765\n"
     ]
    }
   ],
   "source": [
    "'''Write a program using the Regular Exception and create a function that accepts a string and searches it for a valid phone number.\n",
    "Return the phone number if found.\n",
    "A valid phone number may be one of the following:\n",
    "(xxx)-xxx-xxxx\n",
    "xxx-xxx-xxxx'''\n",
    "import re\n",
    "def find_phone_number(text):\n",
    "    # Regular expression pattern for matching valid phone numbers\n",
    "    pattern = r'(\\(\\d{3}\\)-\\d{3}-\\d{4}|\\d{3}-\\d{3}-\\d{4})'\n",
    "    \n",
    "    # Search for the pattern in the input text\n",
    "    match = re.search(pattern, text)\n",
    "    \n",
    "    # If a match is found, return the phone number\n",
    "    if match:\n",
    "        return match.group()\n",
    "    else:\n",
    "        return None\n",
    "\n",
    "\n",
    "input_ph = input(\"Enter the phone number: \")\n",
    "phone_number = find_phone_number(input_ph)\n",
    "\n",
    "if phone_number:\n",
    "    print(\"Found phone number:\", phone_number)\n",
    "else:\n",
    "    print(\"No valid phone number found.\")\n",
    "\n"
   ]
  },
  {
   "cell_type": "code",
   "execution_count": 8,
   "metadata": {},
   "outputs": [
    {
     "name": "stdout",
     "output_type": "stream",
     "text": [
      "Password is strong!\n"
     ]
    }
   ],
   "source": [
    "# Q2. Write a function that employs regular expressions to ensure the password given to the function is strong.\n",
    "# A strong password is defined as follows:\n",
    "# · at least eight characters long\n",
    "# · contains one uppercase character\n",
    "# · contains one lowercase character\n",
    "# · has at least one digit\n",
    "# · has at least one special character\n",
    "# [For instance: Christ@123]\n",
    "import re\n",
    "\n",
    "def is_strong_pass(password):\n",
    "    # At least eight characters long\n",
    "    if len(password) < 8:\n",
    "        return False\n",
    "    \n",
    "    # Contains one uppercase character\n",
    "    if not re.search(r'[A-Z]', password):\n",
    "        return False\n",
    "    \n",
    "    # Contains one lowercase character\n",
    "    if not re.search(r'[a-z]', password):\n",
    "        return False\n",
    "    \n",
    "    # Contains at least one digit\n",
    "    if not re.search(r'\\d', password):\n",
    "        return False\n",
    "    \n",
    "    # Contains at least one special character\n",
    "    if not re.search(r'[!@#$%^&*()_+{}\\[\\]:;<>,.?\\\\\\'\"~-]', password):\n",
    "        return False\n",
    "    \n",
    "    return True\n",
    "\n",
    "\n",
    "password = input(\"Enter a password: \")\n",
    "if is_strong_pass(password):\n",
    "    print(\"Password is strong!\")\n",
    "else:\n",
    "    print(\"Password is not strong.\")"
   ]
  }
 ],
 "metadata": {
  "kernelspec": {
   "display_name": "Python 3",
   "language": "python",
   "name": "python3"
  },
  "language_info": {
   "codemirror_mode": {
    "name": "ipython",
    "version": 3
   },
   "file_extension": ".py",
   "mimetype": "text/x-python",
   "name": "python",
   "nbconvert_exporter": "python",
   "pygments_lexer": "ipython3",
   "version": "3.11.4"
  },
  "orig_nbformat": 4
 },
 "nbformat": 4,
 "nbformat_minor": 2
}
